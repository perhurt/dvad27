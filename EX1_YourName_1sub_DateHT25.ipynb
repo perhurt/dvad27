{
 "cells": [
  {
   "cell_type": "code",
   "execution_count": 1,
   "metadata": {
    "collapsed": false,
    "jupyter": {
     "outputs_hidden": false
    }
   },
   "outputs": [],
   "source": [
    "import numpy as np\n",
    "import matplotlib.pyplot as plt\n",
    "import scipy.stats as stats\n"
   ]
  },
  {
   "cell_type": "code",
   "execution_count": null,
   "metadata": {
    "collapsed": false,
    "jupyter": {
     "outputs_hidden": false
    }
   },
   "outputs": [],
   "source": [
    "#Some example code\n",
    "\n",
    "#Onesided normal percentile point function\n",
    "#alpha = 0.05    ==> Use 1-alpha/2 = 0.975\n",
    "#print(stats.norm.ppf(0.95))\n",
    "#print(stats.norm.ppf(0.975))\n",
    "#print(stats.t.ppf(0.95,8))\n",
    "\n",
    "#There are also twosided interval functions\n",
    "#alpha=0.05  # alpha = significance level.    Confidence level = 1 - significance level\n",
    "#print(stats.norm.interval(1-alpha))\n",
    "#print(stats.t.interval(1-alpha,10))\n",
    "\n",
    "#The code below can provide a hint on how to get values from the F-table:\n",
    "alpha=0.05  # alpha = significance level.    Confidence level = 1 - significance level\n",
    "#Get value from F-table for alpha significance,2 in numerator, and 4 in denominator\n",
    "stats.f.interval(1-alpha*2,2,4)[1]    #This function uses twotailed probabilities\n",
    "6.94427191\n",
    "\n",
    "#Find out what significance a particular computed F-value gives:\n",
    "stats.f.sf(6.944,2,4)                 #This function reports onetailed probability\n",
    "0.0500030401848\n",
    "\n",
    "#Some numpy array examples. Can be useful with ANOVA exercise.\n",
    "#vals = np.array([1,2,3,4,3,2,1])\n",
    "#print(np.sum(vals))\n",
    "#print(np.sum(vals) / len(vals))\n",
    "#val_means = np.mean(vals)\n",
    "#diff = vals - val_means\n",
    "#diff2 = diff**2\n",
    "#print(vals)\n",
    "#print(val_means)\n",
    "#print(diff)\n",
    "#print(diff2) \n",
    "#test_arr = np.array([[1,2,3],[4,5,6],[7,8,9]])\n",
    "#print(test_arr)\n",
    "#print(test_arr - np.mean(test_arr))\n",
    "#print(test_arr[1,:])\n",
    "#print(test_arr[:,2])\n",
    "#print(test_arr[:,2] - np.mean(test_arr))"
   ]
  },
  {
   "cell_type": "code",
   "execution_count": null,
   "metadata": {},
   "outputs": [],
   "source": []
  },
  {
   "cell_type": "markdown",
   "metadata": {},
   "source": [
    "# Laboratory Assignment 1"
   ]
  },
  {
   "cell_type": "markdown",
   "metadata": {},
   "source": [
    "## Exercise A"
   ]
  },
  {
   "cell_type": "markdown",
   "metadata": {},
   "source": [
    "#### Question 1: What is the average MFLOPS that can be calculated from these values?"
   ]
  },
  {
   "cell_type": "code",
   "execution_count": null,
   "metadata": {
    "collapsed": false,
    "jupyter": {
     "outputs_hidden": false
    }
   },
   "outputs": [],
   "source": [
    "#<your calculations here>"
   ]
  },
  {
   "cell_type": "raw",
   "metadata": {},
   "source": [
    "<Your textual description of approach here>\n",
    "\n",
    "Answer: "
   ]
  },
  {
   "cell_type": "markdown",
   "metadata": {},
   "source": [
    "#### Question 2: What is the average throughput obtained during this image transfer expressed in bits per second? "
   ]
  },
  {
   "cell_type": "code",
   "execution_count": null,
   "metadata": {
    "collapsed": false,
    "jupyter": {
     "outputs_hidden": false
    }
   },
   "outputs": [],
   "source": [
    "#<your calculations here>"
   ]
  },
  {
   "cell_type": "raw",
   "metadata": {},
   "source": [
    "<Your textual description of approach here>\n",
    "\n",
    "Answer: "
   ]
  },
  {
   "cell_type": "markdown",
   "metadata": {},
   "source": [
    "#### Question 3. What is now the average throughput (again in bps)?"
   ]
  },
  {
   "cell_type": "code",
   "execution_count": null,
   "metadata": {
    "collapsed": false,
    "jupyter": {
     "outputs_hidden": false
    }
   },
   "outputs": [],
   "source": [
    "#<your calculations here>"
   ]
  },
  {
   "cell_type": "raw",
   "metadata": {},
   "source": [
    "<Your textual description of approach here>\n",
    "\n",
    "Answer: "
   ]
  },
  {
   "cell_type": "markdown",
   "metadata": {},
   "source": [
    "#### Question 4. What is the average increase for a configuration tweak? "
   ]
  },
  {
   "cell_type": "code",
   "execution_count": 1,
   "metadata": {
    "collapsed": false,
    "jupyter": {
     "outputs_hidden": false
    }
   },
   "outputs": [],
   "source": [
    "#<your calculations here>"
   ]
  },
  {
   "cell_type": "raw",
   "metadata": {},
   "source": [
    "<Your textual description of approach here>\n",
    "\n",
    "Answer: "
   ]
  },
  {
   "cell_type": "markdown",
   "metadata": {
    "tags": []
   },
   "source": [
    "#### Question 5. What is the estimated mean throughput during the measured hour? "
   ]
  },
  {
   "cell_type": "code",
   "execution_count": null,
   "metadata": {
    "collapsed": false,
    "jupyter": {
     "outputs_hidden": false
    }
   },
   "outputs": [],
   "source": [
    "#<your calculations here>"
   ]
  },
  {
   "cell_type": "raw",
   "metadata": {},
   "source": [
    "<Your textual description of approach here>\n",
    "\n",
    "Answer: "
   ]
  },
  {
   "cell_type": "markdown",
   "metadata": {},
   "source": [
    "## Exercise B"
   ]
  },
  {
   "cell_type": "code",
   "execution_count": null,
   "metadata": {
    "collapsed": false,
    "jupyter": {
     "outputs_hidden": false
    }
   },
   "outputs": [],
   "source": [
    "#Some axample data read in code....\n",
    "dataset = list()\n",
    "with open(\"labdata.dat\") as datafile:\n",
    "    for line in datafile:\n",
    "        dataset.append(int(line))\n",
    "    \n"
   ]
  },
  {
   "cell_type": "code",
   "execution_count": null,
   "metadata": {
    "collapsed": false,
    "jupyter": {
     "outputs_hidden": false
    }
   },
   "outputs": [],
   "source": [
    "data_col1 = list()\n",
    "data_col2 = list()\n",
    "with open(\"labdata2.dat\") as datafile:\n",
    "    for line in datafile:\n",
    "        data_col1.append(int(line.split()[0]))\n",
    "        data_col2.append(int(line.split()[1]))\n",
    "\n"
   ]
  },
  {
   "cell_type": "markdown",
   "metadata": {},
   "source": [
    "#### Question 1. Using  an appropriate measure of central tendency,  how much time is on average required for a ping probe to travel from A to B?"
   ]
  },
  {
   "cell_type": "code",
   "execution_count": null,
   "metadata": {
    "collapsed": false,
    "jupyter": {
     "outputs_hidden": false
    }
   },
   "outputs": [],
   "source": [
    "#<your calculations here. Do your 'own' calulation approach. You can then verify the result with np.xxxx() where xxxx is the appropriate numpy function>"
   ]
  },
  {
   "cell_type": "raw",
   "metadata": {},
   "source": [
    "<Your textual description of approach here>\n",
    "\n",
    "Answer: "
   ]
  },
  {
   "cell_type": "markdown",
   "metadata": {},
   "source": [
    "#### Question 2. Using standard deviation as an measure of dispersion, how much variation does the RTT samples display? "
   ]
  },
  {
   "cell_type": "code",
   "execution_count": null,
   "metadata": {
    "collapsed": false,
    "jupyter": {
     "outputs_hidden": false
    }
   },
   "outputs": [],
   "source": [
    "#<your calculations here. Do your 'own' calulation approach. You can then verify the result with np.xxxx() where xxxx is the appropriate numpy function>"
   ]
  },
  {
   "cell_type": "raw",
   "metadata": {},
   "source": [
    "<Your textual description of approach here>\n",
    "\n",
    "Answer: "
   ]
  },
  {
   "cell_type": "markdown",
   "metadata": {},
   "source": [
    "#### Question 3. Create a histogram, with appropriate axis labels, to visulize the distribution of RTT samples."
   ]
  },
  {
   "cell_type": "code",
   "execution_count": null,
   "metadata": {
    "collapsed": false,
    "jupyter": {
     "outputs_hidden": false
    }
   },
   "outputs": [],
   "source": [
    "#<your code / calculations here. Matplotlib documentation/examples available from link given in \"Python tips\" on canvas...>"
   ]
  },
  {
   "cell_type": "raw",
   "metadata": {},
   "source": [
    "<Your textual description of approach here>\n",
    "\n",
    "Answer: "
   ]
  },
  {
   "cell_type": "markdown",
   "metadata": {},
   "source": [
    "#### Question 4. How would you like to describe the shape of the distribution, and why do you think it has this shape?"
   ]
  },
  {
   "cell_type": "code",
   "execution_count": null,
   "metadata": {
    "collapsed": false,
    "jupyter": {
     "outputs_hidden": false
    }
   },
   "outputs": [],
   "source": []
  },
  {
   "cell_type": "raw",
   "metadata": {},
   "source": [
    "<Your textual answer here>\n",
    "\n",
    "Answer: "
   ]
  },
  {
   "cell_type": "markdown",
   "metadata": {},
   "source": [
    "## Exercise C"
   ]
  },
  {
   "cell_type": "code",
   "execution_count": null,
   "metadata": {},
   "outputs": [],
   "source": [
    "#Implement your function here"
   ]
  },
  {
   "cell_type": "code",
   "execution_count": null,
   "metadata": {},
   "outputs": [],
   "source": []
  },
  {
   "cell_type": "markdown",
   "metadata": {},
   "source": [
    "#### Question 1: Calculate [c1,c2] for a confidence level of 90%?"
   ]
  },
  {
   "cell_type": "code",
   "execution_count": null,
   "metadata": {
    "collapsed": false,
    "jupyter": {
     "outputs_hidden": false
    }
   },
   "outputs": [],
   "source": [
    "#<your calculations here>"
   ]
  },
  {
   "cell_type": "raw",
   "metadata": {},
   "source": [
    "<Your textual description of approach here>\n",
    "\n",
    "Answer: "
   ]
  },
  {
   "cell_type": "markdown",
   "metadata": {},
   "source": [
    "#### Question 2: Calculate [c1,c2] for a confidence level of 95%?"
   ]
  },
  {
   "cell_type": "code",
   "execution_count": null,
   "metadata": {
    "collapsed": false,
    "jupyter": {
     "outputs_hidden": false
    }
   },
   "outputs": [],
   "source": [
    "#<your calculations here>"
   ]
  },
  {
   "cell_type": "raw",
   "metadata": {},
   "source": [
    "<Your textual description of approach here>\n",
    "\n",
    "Answer: "
   ]
  },
  {
   "cell_type": "markdown",
   "metadata": {},
   "source": [
    "#### Question 3: Why is the interval larger for 95% than for a 90% interval? Should not a 95% interval be a more precise measure of the interval containing the \"real\" value?"
   ]
  },
  {
   "cell_type": "code",
   "execution_count": null,
   "metadata": {
    "collapsed": false,
    "jupyter": {
     "outputs_hidden": false
    }
   },
   "outputs": [],
   "source": []
  },
  {
   "cell_type": "raw",
   "metadata": {},
   "source": [
    "<Your textual description  here>\n",
    "\n",
    "Answer: "
   ]
  },
  {
   "cell_type": "markdown",
   "metadata": {},
   "source": [
    "#### Question 4. Between what values can we expect the mean of the transmission time to be? Choose a 95\\% level of confidence. "
   ]
  },
  {
   "cell_type": "code",
   "execution_count": null,
   "metadata": {
    "collapsed": false,
    "jupyter": {
     "outputs_hidden": false
    }
   },
   "outputs": [],
   "source": [
    "#<your calculations here>"
   ]
  },
  {
   "cell_type": "raw",
   "metadata": {},
   "source": [
    "<Your textual description of approach here>\n",
    "\n",
    "Answer: "
   ]
  },
  {
   "cell_type": "markdown",
   "metadata": {},
   "source": [
    "#### Question 5. Compare the achieved results to the unmodified TCP stack. What can you say about the difference in terms of confidence intervals? "
   ]
  },
  {
   "cell_type": "code",
   "execution_count": null,
   "metadata": {
    "collapsed": false,
    "jupyter": {
     "outputs_hidden": false
    }
   },
   "outputs": [],
   "source": [
    "#<your calculations here>"
   ]
  },
  {
   "cell_type": "raw",
   "metadata": {},
   "source": [
    "<Your textual description of approach here>\n",
    "\n",
    "Answer: "
   ]
  },
  {
   "cell_type": "markdown",
   "metadata": {},
   "source": [
    "#### Question 6. Do they show the same results?  Why/Why not?"
   ]
  },
  {
   "cell_type": "code",
   "execution_count": null,
   "metadata": {
    "collapsed": false,
    "jupyter": {
     "outputs_hidden": false
    }
   },
   "outputs": [],
   "source": [
    "#<your calculations here>"
   ]
  },
  {
   "cell_type": "raw",
   "metadata": {},
   "source": [
    "<Your textual description of approach here>\n",
    "\n",
    "Answer: "
   ]
  },
  {
   "cell_type": "markdown",
   "metadata": {},
   "source": [
    "## Exercise D"
   ]
  },
  {
   "cell_type": "markdown",
   "metadata": {},
   "source": [
    "#### Question 1: Are there any statistically significant difference between the network providers i.e.: what can you say about the difference with 95% confidence?"
   ]
  },
  {
   "cell_type": "code",
   "execution_count": null,
   "metadata": {
    "collapsed": false,
    "jupyter": {
     "outputs_hidden": false
    }
   },
   "outputs": [],
   "source": [
    "#<your calculations here. If you want to verify the results from you matrix calculations you might use f_oneway ('from scipy.stats import f_oneway')>"
   ]
  },
  {
   "cell_type": "raw",
   "metadata": {},
   "source": [
    "<Your textual description of approach here>\n",
    "\n",
    "Answer: "
   ]
  },
  {
   "cell_type": "markdown",
   "metadata": {},
   "source": [
    "#### Question 2: What can you say with 90% confidence?"
   ]
  },
  {
   "cell_type": "code",
   "execution_count": null,
   "metadata": {
    "collapsed": false,
    "jupyter": {
     "outputs_hidden": false
    }
   },
   "outputs": [],
   "source": [
    "#<your calculations here>"
   ]
  },
  {
   "cell_type": "raw",
   "metadata": {},
   "source": [
    "<Your textual description of approach here>\n",
    "\n",
    "Answer: "
   ]
  },
  {
   "cell_type": "markdown",
   "metadata": {},
   "source": [
    "#### Question 3: Compute the confidence intervals of the mean for each of the networks. What picture does the confidence intervals give regrading the difference between the networks, and how does that relate to the ANOVA results? "
   ]
  },
  {
   "cell_type": "code",
   "execution_count": null,
   "metadata": {
    "collapsed": false,
    "jupyter": {
     "outputs_hidden": false
    }
   },
   "outputs": [],
   "source": [
    "#<your calculations here>"
   ]
  },
  {
   "cell_type": "raw",
   "metadata": {},
   "source": [
    "<Your textual description of approach here>\n",
    "\n",
    "Answer: "
   ]
  },
  {
   "cell_type": "code",
   "execution_count": null,
   "metadata": {
    "collapsed": false,
    "jupyter": {
     "outputs_hidden": false
    }
   },
   "outputs": [],
   "source": []
  }
 ],
 "metadata": {
  "kernelspec": {
   "display_name": "Python 3 (ipykernel)",
   "language": "python",
   "name": "python3"
  },
  "language_info": {
   "codemirror_mode": {
    "name": "ipython",
    "version": 3
   },
   "file_extension": ".py",
   "mimetype": "text/x-python",
   "name": "python",
   "nbconvert_exporter": "python",
   "pygments_lexer": "ipython3",
   "version": "3.10.10"
  },
  "name": "EX1_YourName_1sub_Date.ipynb"
 },
 "nbformat": 4,
 "nbformat_minor": 4
}
