{
 "cells": [
  {
   "cell_type": "code",
   "execution_count": 17,
   "id": "6f05d358-a11d-4ec2-a526-1a8e62898850",
   "metadata": {},
   "outputs": [
    {
     "name": "stdout",
     "output_type": "stream",
     "text": [
      "Average throughput from node 2 to node 3 after time 1.0 for flow 1 is 284149.5 bps, loss rate is 0.0119\n"
     ]
    }
   ],
   "source": [
    "def parse_trace_line(line):\n",
    "    \"\"\"Extract relevant fields from a trace line.\"\"\"\n",
    "    parts = line.split()\n",
    "    event = parts[0]  # +, -, r, or d\n",
    "    time = float(parts[1])\n",
    "    src = int(parts[2])\n",
    "    dst = int(parts[3])\n",
    "    pkt_size = int(parts[5]) * 8  # packet size in bits\n",
    "    flow_id = int(parts[7])  \n",
    "    return event, time, src, dst, pkt_size, flow_id\n",
    "\n",
    "\n",
    "def calculate_throughput_and_loss(trace_file, src_node, dst_node, start_time, flow_id):\n",
    "    \"\"\"Calculate average throughput and packet loss rate for a specific flow starting from start_time.\"\"\"\n",
    "    bits_received = 0\n",
    "    first_packet_time = None\n",
    "    last_packet_time = None\n",
    "    received_packets = 0\n",
    "    dropped_packets = 0\n",
    "\n",
    "    with open(trace_file, 'r') as file:\n",
    "        for line in file:\n",
    "            parsed = parse_trace_line(line)\n",
    "            if parsed is None:\n",
    "                continue\n",
    "            event, time, src, dst, pkt_size, fid = parsed\n",
    "\n",
    "            # Process only events for the specified flow_id\n",
    "            if fid == flow_id and src == src_node and dst == dst_node and time >= start_time:\n",
    "                if event == 'r':  # Received packets\n",
    "                    if first_packet_time is None:\n",
    "                        first_packet_time = time\n",
    "\n",
    "                    # Update total bits and track time for throughput calculation\n",
    "                    bits_received += pkt_size\n",
    "                    last_packet_time = time\n",
    "                    received_packets += 1\n",
    "\n",
    "                elif event == 'd':  # Dropped packets\n",
    "                    dropped_packets += 1\n",
    "\n",
    "    if first_packet_time and last_packet_time and last_packet_time > first_packet_time:\n",
    "        # Calculate throughput (bits per second)\n",
    "        duration = last_packet_time - first_packet_time\n",
    "        throughput = bits_received / duration  # bits per second\n",
    "        total_packets = received_packets + dropped_packets\n",
    "        loss_rate = dropped_packets / total_packets  # loss rate as a fraction\n",
    "    else:\n",
    "        throughput = 0.0  # No packets received in the time frame\n",
    "        loss_rate = 0.0  # No packets to compute loss rate\n",
    "\n",
    "    return throughput, loss_rate\n",
    "\n",
    "# Example usage\n",
    "trace_file = 'out.tr'  # Replace with the path to your trace file\n",
    "src_node = 2  # Source node\n",
    "dst_node = 3  # Destination node\n",
    "start_time = 1.0  # Start time for throughput calculation\n",
    "flow_id = 1  # Set flow_id to a specific integer\n",
    "\n",
    "# Compute throughput, received packets, dropped packets, and loss rate\n",
    "tput, loss_rate = calculate_throughput_and_loss(trace_file, src_node, dst_node, start_time, flow_id)\n",
    "\n",
    "# Display results\n",
    "print(f\"Average throughput from node {src_node} to node {dst_node} after time {start_time} for flow {flow_id} is {tput:.1f} bps, loss rate is {loss_rate:.4f}\")\n"
   ]
  },
  {
   "cell_type": "code",
   "execution_count": null,
   "id": "be3ade15-478f-46a3-bd3d-a89f9c633c3c",
   "metadata": {},
   "outputs": [],
   "source": []
  }
 ],
 "metadata": {
  "kernelspec": {
   "display_name": "Python 3 (ipykernel) *",
   "language": "python",
   "name": "conda-base-py"
  },
  "language_info": {
   "codemirror_mode": {
    "name": "ipython",
    "version": 3
   },
   "file_extension": ".py",
   "mimetype": "text/x-python",
   "name": "python",
   "nbconvert_exporter": "python",
   "pygments_lexer": "ipython3",
   "version": "3.11.9"
  }
 },
 "nbformat": 4,
 "nbformat_minor": 5
}
